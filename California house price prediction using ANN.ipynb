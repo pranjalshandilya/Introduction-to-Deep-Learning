{
 "cells": [
  {
   "cell_type": "markdown",
   "metadata": {},
   "source": [
    "## Importing libraries"
   ]
  },
  {
   "cell_type": "code",
   "execution_count": 2,
   "metadata": {},
   "outputs": [],
   "source": [
    "import numpy as np\n",
    "import pandas as pd\n",
    "%matplotlib inline\n",
    "import matplotlib as mpl\n",
    "import matplotlib.pyplot as plt"
   ]
  },
  {
   "cell_type": "code",
   "execution_count": 3,
   "metadata": {},
   "outputs": [
    {
     "name": "stderr",
     "output_type": "stream",
     "text": [
      "<frozen importlib._bootstrap>:219: RuntimeWarning: numpy.ufunc size changed, may indicate binary incompatibility. Expected 192 from C header, got 216 from PyObject\n",
      "<frozen importlib._bootstrap>:219: RuntimeWarning: numpy.ufunc size changed, may indicate binary incompatibility. Expected 192 from C header, got 216 from PyObject\n"
     ]
    }
   ],
   "source": [
    "import tensorflow as tf\n",
    "from tensorflow import keras"
   ]
  },
  {
   "cell_type": "code",
   "execution_count": 4,
   "metadata": {},
   "outputs": [],
   "source": [
    "from sklearn.datasets import fetch_california_housing\n",
    "housing = fetch_california_housing()"
   ]
  },
  {
   "cell_type": "markdown",
   "metadata": {},
   "source": [
    "### Dataset characteristics"
   ]
  },
  {
   "cell_type": "markdown",
   "metadata": {},
   "source": [
    "* Number of instances\n",
    "    - 20640"
   ]
  },
  {
   "cell_type": "markdown",
   "metadata": {},
   "source": [
    "* Number of attributes\n",
    "    - 8 numeric, predictive attritbutes and the target"
   ]
  },
  {
   "cell_type": "markdown",
   "metadata": {},
   "source": [
    "* Attribute information\n",
    "    - MedInc median income in block\n",
    "    - HouseAge median house age in block\n",
    "    - AveRooms average number of rooms\n",
    "    - AveBedrms average number of bedrooms\n",
    "    - Population block population\n",
    "    - AveOccup average house occupancy\n",
    "    - Latitude house block latitude\n",
    "    - Longitude house block longitutde"
   ]
  },
  {
   "cell_type": "markdown",
   "metadata": {},
   "source": [
    "* Target\n",
    "    - The target variable is the median house value in units of 1000,000 for california districts"
   ]
  },
  {
   "cell_type": "code",
   "execution_count": 6,
   "metadata": {},
   "outputs": [
    {
     "name": "stdout",
     "output_type": "stream",
     "text": [
      "['MedInc', 'HouseAge', 'AveRooms', 'AveBedrms', 'Population', 'AveOccup', 'Latitude', 'Longitude']\n"
     ]
    }
   ],
   "source": [
    "print(housing.feature_names)"
   ]
  },
  {
   "cell_type": "code",
   "execution_count": 7,
   "metadata": {},
   "outputs": [],
   "source": [
    "from sklearn.model_selection import train_test_split\n",
    "X_train_full, X_test, y_train_full, y_test = train_test_split(housing.data, housing.target, random_state=42)\n",
    "X_train, X_valid, y_train, y_valid = train_test_split(X_train_full, y_train_full, random_state=42)"
   ]
  },
  {
   "cell_type": "code",
   "execution_count": 9,
   "metadata": {},
   "outputs": [],
   "source": [
    "from sklearn.preprocessing import StandardScaler\n",
    "scaler = StandardScaler()\n",
    "X_train = scaler.fit_transform(X_train)\n",
    "X_valid = scaler.transform(X_valid)\n",
    "X_test = scaler.transform(X_test)"
   ]
  },
  {
   "cell_type": "code",
   "execution_count": 10,
   "metadata": {},
   "outputs": [],
   "source": [
    "np.random.seed(42)\n",
    "tf.random.set_seed(42)"
   ]
  },
  {
   "cell_type": "code",
   "execution_count": 11,
   "metadata": {},
   "outputs": [
    {
     "data": {
      "text/plain": [
       "(11610, 8)"
      ]
     },
     "execution_count": 11,
     "metadata": {},
     "output_type": "execute_result"
    }
   ],
   "source": [
    "X_train.shape"
   ]
  },
  {
   "cell_type": "markdown",
   "metadata": {},
   "source": [
    "## Creating model"
   ]
  },
  {
   "cell_type": "code",
   "execution_count": 17,
   "metadata": {},
   "outputs": [],
   "source": [
    "model = keras.models.Sequential([\n",
    "    keras.layers.Dense(30, activation = \"relu\", input_shape=[8]),\n",
    "    keras.layers.Dense(30, activation = \"relu\"),\n",
    "    keras.layers.Dense(1)                                                 \n",
    "])"
   ]
  },
  {
   "cell_type": "code",
   "execution_count": 18,
   "metadata": {},
   "outputs": [
    {
     "name": "stdout",
     "output_type": "stream",
     "text": [
      "Model: \"sequential_1\"\n",
      "_________________________________________________________________\n",
      "Layer (type)                 Output Shape              Param #   \n",
      "=================================================================\n",
      "dense_3 (Dense)              (None, 30)                270       \n",
      "_________________________________________________________________\n",
      "dense_4 (Dense)              (None, 30)                930       \n",
      "_________________________________________________________________\n",
      "dense_5 (Dense)              (None, 1)                 31        \n",
      "=================================================================\n",
      "Total params: 1,231\n",
      "Trainable params: 1,231\n",
      "Non-trainable params: 0\n",
      "_________________________________________________________________\n"
     ]
    }
   ],
   "source": [
    "model.summary()"
   ]
  },
  {
   "cell_type": "code",
   "execution_count": 21,
   "metadata": {},
   "outputs": [],
   "source": [
    "model.compile(loss=\"mean_squared_error\",\n",
    "             optimizer=keras.optimizers.SGD(lr=1e-3),\n",
    "             metrics = ['mae'])\n",
    "\n",
    "#lr = learning rate"
   ]
  },
  {
   "cell_type": "code",
   "execution_count": 22,
   "metadata": {},
   "outputs": [
    {
     "data": {
      "image/png": "[encoded data removed]",
      "text/plain": [
       "<IPython.core.display.Image object>"
      ]
     },
     "execution_count": 22,
     "metadata": {},
     "output_type": "execute_result"
    }
   ],
   "source": [
    "import pydot\n",
    "keras.utils.plot_model(model)"
   ]
  },
  {
   "cell_type": "code",
   "execution_count": 27,
   "metadata": {},
   "outputs": [
    {
     "name": "stdout",
     "output_type": "stream",
     "text": [
      "Epoch 1/30\n",
      "363/363 [==============================] - 1s 4ms/step - loss: 0.3784 - mae: 0.4397 - val_loss: 0.4362 - val_mae: 0.4741\n",
      "Epoch 2/30\n",
      "363/363 [==============================] - 1s 4ms/step - loss: 0.3772 - mae: 0.4384 - val_loss: 0.4372 - val_mae: 0.4810\n",
      "Epoch 3/30\n",
      "363/363 [==============================] - 1s 4ms/step - loss: 0.3759 - mae: 0.4383 - val_loss: 0.4351 - val_mae: 0.4743\n",
      "Epoch 4/30\n",
      "363/363 [==============================] - 1s 2ms/step - loss: 0.3743 - mae: 0.4367 - val_loss: 0.4359 - val_mae: 0.4793\n",
      "Epoch 5/30\n",
      "363/363 [==============================] - 1s 2ms/step - loss: 0.3735 - mae: 0.4361 - val_loss: 0.4330 - val_mae: 0.4751\n",
      "Epoch 6/30\n",
      "363/363 [==============================] - 1s 2ms/step - loss: 0.3719 - mae: 0.4353 - val_loss: 0.4330 - val_mae: 0.4732\n",
      "Epoch 7/30\n",
      "363/363 [==============================] - 1s 2ms/step - loss: 0.3712 - mae: 0.4344 - val_loss: 0.4320 - val_mae: 0.4737\n",
      "Epoch 8/30\n",
      "363/363 [==============================] - 2s 4ms/step - loss: 0.3701 - mae: 0.4340 - val_loss: 0.4295 - val_mae: 0.4696\n",
      "Epoch 9/30\n",
      "363/363 [==============================] - 1s 2ms/step - loss: 0.3690 - mae: 0.4332 - val_loss: 0.4293 - val_mae: 0.4690\n",
      "Epoch 10/30\n",
      "363/363 [==============================] - 1s 3ms/step - loss: 0.3680 - mae: 0.4324 - val_loss: 0.4277 - val_mae: 0.4669\n",
      "Epoch 11/30\n",
      "363/363 [==============================] - 1s 3ms/step - loss: 0.3673 - mae: 0.4317 - val_loss: 0.4278 - val_mae: 0.4686\n",
      "Epoch 12/30\n",
      "363/363 [==============================] - 1s 4ms/step - loss: 0.3663 - mae: 0.4308 - val_loss: 0.4264 - val_mae: 0.4674\n",
      "Epoch 13/30\n",
      "363/363 [==============================] - 1s 3ms/step - loss: 0.3654 - mae: 0.4303 - val_loss: 0.4269 - val_mae: 0.4718\n",
      "Epoch 14/30\n",
      "363/363 [==============================] - 1s 3ms/step - loss: 0.3645 - mae: 0.4295 - val_loss: 0.4268 - val_mae: 0.4713\n",
      "Epoch 15/30\n",
      "363/363 [==============================] - 1s 2ms/step - loss: 0.3638 - mae: 0.4294 - val_loss: 0.4245 - val_mae: 0.4689\n",
      "Epoch 16/30\n",
      "363/363 [==============================] - 1s 3ms/step - loss: 0.3628 - mae: 0.4289 - val_loss: 0.4247 - val_mae: 0.4683\n",
      "Epoch 17/30\n",
      "363/363 [==============================] - 1s 2ms/step - loss: 0.3621 - mae: 0.4282 - val_loss: 0.4244 - val_mae: 0.4671\n",
      "Epoch 18/30\n",
      "363/363 [==============================] - 1s 4ms/step - loss: 0.3618 - mae: 0.4278 - val_loss: 0.4243 - val_mae: 0.4653\n",
      "Epoch 19/30\n",
      "363/363 [==============================] - 1s 2ms/step - loss: 0.3606 - mae: 0.4268 - val_loss: 0.4241 - val_mae: 0.4657\n",
      "Epoch 20/30\n",
      "363/363 [==============================] - 1s 2ms/step - loss: 0.3601 - mae: 0.4265 - val_loss: 0.4230 - val_mae: 0.4682\n",
      "Epoch 21/30\n",
      "363/363 [==============================] - 1s 3ms/step - loss: 0.3594 - mae: 0.4261 - val_loss: 0.4237 - val_mae: 0.4701\n",
      "Epoch 22/30\n",
      "363/363 [==============================] - 1s 2ms/step - loss: 0.3587 - mae: 0.4257 - val_loss: 0.4243 - val_mae: 0.4719\n",
      "Epoch 23/30\n",
      "363/363 [==============================] - 1s 2ms/step - loss: 0.3581 - mae: 0.4258 - val_loss: 0.4218 - val_mae: 0.4594\n",
      "Epoch 24/30\n",
      "363/363 [==============================] - 1s 4ms/step - loss: 0.3573 - mae: 0.4242 - val_loss: 0.4228 - val_mae: 0.4650\n",
      "Epoch 25/30\n",
      "363/363 [==============================] - 1s 4ms/step - loss: 0.3566 - mae: 0.4244 - val_loss: 0.4204 - val_mae: 0.4625\n",
      "Epoch 26/30\n",
      "363/363 [==============================] - 1s 2ms/step - loss: 0.3562 - mae: 0.4237 - val_loss: 0.4202 - val_mae: 0.4642\n",
      "Epoch 27/30\n",
      "363/363 [==============================] - 1s 3ms/step - loss: 0.3558 - mae: 0.4236 - val_loss: 0.4191 - val_mae: 0.4616\n",
      "Epoch 28/30\n",
      "363/363 [==============================] - 1s 4ms/step - loss: 0.3551 - mae: 0.4227 - val_loss: 0.4200 - val_mae: 0.4663\n",
      "Epoch 29/30\n",
      "363/363 [==============================] - 1s 4ms/step - loss: 0.3546 - mae: 0.4225 - val_loss: 0.4197 - val_mae: 0.4659\n",
      "Epoch 30/30\n",
      "363/363 [==============================] - 1s 4ms/step - loss: 0.3537 - mae: 0.4221 - val_loss: 0.4199 - val_mae: 0.4627\n"
     ]
    }
   ],
   "source": [
    "model_history = model.fit(X_train, y_train, epochs=30, validation_data=(X_valid,y_valid))"
   ]
  },
  {
   "cell_type": "code",
   "execution_count": 28,
   "metadata": {},
   "outputs": [
    {
     "name": "stdout",
     "output_type": "stream",
     "text": [
      "162/162 [==============================] - 0s 2ms/step - loss: 0.4402 - mae: 0.4738\n"
     ]
    }
   ],
   "source": [
    "mae_test = model.evaluate(X_test,y_test)"
   ]
  },
  {
   "cell_type": "code",
   "execution_count": 29,
   "metadata": {},
   "outputs": [
    {
     "data": {
      "text/plain": [
       "{'loss': [0.37842506170272827,\n",
       "  0.3772231638431549,\n",
       "  0.37593942880630493,\n",
       "  0.3743075728416443,\n",
       "  0.3735372722148895,\n",
       "  0.37194713950157166,\n",
       "  0.3711744248867035,\n",
       "  0.3701426386833191,\n",
       "  0.3689679503440857,\n",
       "  0.3680371344089508,\n",
       "  0.3673383295536041,\n",
       "  0.36627447605133057,\n",
       "  0.3654114007949829,\n",
       "  0.36446699500083923,\n",
       "  0.36378014087677,\n",
       "  0.36277732253074646,\n",
       "  0.362110435962677,\n",
       "  0.36175987124443054,\n",
       "  0.3606036901473999,\n",
       "  0.360098659992218,\n",
       "  0.3593679666519165,\n",
       "  0.35869544744491577,\n",
       "  0.35810011625289917,\n",
       "  0.3573246896266937,\n",
       "  0.35663026571273804,\n",
       "  0.3561754822731018,\n",
       "  0.35578253865242004,\n",
       "  0.3550663888454437,\n",
       "  0.35456329584121704,\n",
       "  0.3537389934062958],\n",
       " 'mae': [0.43968796730041504,\n",
       "  0.4384339451789856,\n",
       "  0.4382833242416382,\n",
       "  0.4366830885410309,\n",
       "  0.4361131191253662,\n",
       "  0.43534961342811584,\n",
       "  0.43438491225242615,\n",
       "  0.4339718520641327,\n",
       "  0.4332049787044525,\n",
       "  0.43244507908821106,\n",
       "  0.4316970705986023,\n",
       "  0.4308076500892639,\n",
       "  0.4303346276283264,\n",
       "  0.4294669032096863,\n",
       "  0.429364413022995,\n",
       "  0.42894983291625977,\n",
       "  0.4282437562942505,\n",
       "  0.42784443497657776,\n",
       "  0.42682698369026184,\n",
       "  0.42647990584373474,\n",
       "  0.42610517144203186,\n",
       "  0.4256995618343353,\n",
       "  0.42583486437797546,\n",
       "  0.42415890097618103,\n",
       "  0.42437922954559326,\n",
       "  0.4237403869628906,\n",
       "  0.42358675599098206,\n",
       "  0.4227083623409271,\n",
       "  0.42253419756889343,\n",
       "  0.42211249470710754],\n",
       " 'val_loss': [0.43618959188461304,\n",
       "  0.4372452199459076,\n",
       "  0.4350647032260895,\n",
       "  0.4358784556388855,\n",
       "  0.4329921305179596,\n",
       "  0.43298423290252686,\n",
       "  0.431972473859787,\n",
       "  0.4295007586479187,\n",
       "  0.42932799458503723,\n",
       "  0.4277154803276062,\n",
       "  0.42776724696159363,\n",
       "  0.4264403283596039,\n",
       "  0.4268665909767151,\n",
       "  0.4267538785934448,\n",
       "  0.4245263636112213,\n",
       "  0.42469096183776855,\n",
       "  0.4244171977043152,\n",
       "  0.42433226108551025,\n",
       "  0.42411741614341736,\n",
       "  0.4229743778705597,\n",
       "  0.42371881008148193,\n",
       "  0.42434921860694885,\n",
       "  0.42180782556533813,\n",
       "  0.4227532148361206,\n",
       "  0.4204494059085846,\n",
       "  0.42019641399383545,\n",
       "  0.4190850555896759,\n",
       "  0.42001277208328247,\n",
       "  0.41969674825668335,\n",
       "  0.41993576288223267],\n",
       " 'val_mae': [0.474107563495636,\n",
       "  0.4809544086456299,\n",
       "  0.47429466247558594,\n",
       "  0.4793166220188141,\n",
       "  0.47506648302078247,\n",
       "  0.47316768765449524,\n",
       "  0.4736718237400055,\n",
       "  0.4695574641227722,\n",
       "  0.4689631164073944,\n",
       "  0.4668544828891754,\n",
       "  0.4686291515827179,\n",
       "  0.4674099087715149,\n",
       "  0.47180113196372986,\n",
       "  0.47132477164268494,\n",
       "  0.4689440131187439,\n",
       "  0.468282014131546,\n",
       "  0.4670894742012024,\n",
       "  0.4652518928050995,\n",
       "  0.46568793058395386,\n",
       "  0.46819067001342773,\n",
       "  0.470066636800766,\n",
       "  0.47190189361572266,\n",
       "  0.4594059884548187,\n",
       "  0.46497777104377747,\n",
       "  0.46252208948135376,\n",
       "  0.46422648429870605,\n",
       "  0.46160292625427246,\n",
       "  0.46630796790122986,\n",
       "  0.4659190773963928,\n",
       "  0.46271300315856934]}"
      ]
     },
     "execution_count": 29,
     "metadata": {},
     "output_type": "execute_result"
    }
   ],
   "source": [
    "model_history.history"
   ]
  },
  {
   "cell_type": "code",
   "execution_count": 30,
   "metadata": {},
   "outputs": [
    {
     "data": {
      "image/png": "[encoded data removed]",
      "text/plain": [
       "<Figure size 576x360 with 1 Axes>"
      ]
     },
     "metadata": {
      "needs_background": "light"
     },
     "output_type": "display_data"
    }
   ],
   "source": [
    "pd.DataFrame(model_history.history).plot(figsize=(8,5))\n",
    "plt.grid(True)\n",
    "plt.gca().set_ylim(0,1)\n",
    "plt.show()"
   ]
  },
  {
   "cell_type": "code",
   "execution_count": 31,
   "metadata": {},
   "outputs": [],
   "source": [
    "X_new = X_test[:3]"
   ]
  },
  {
   "cell_type": "code",
   "execution_count": 32,
   "metadata": {},
   "outputs": [
    {
     "name": "stdout",
     "output_type": "stream",
     "text": [
      "[[0.77052236]\n",
      " [1.7775463 ]\n",
      " [2.812307  ]]\n",
      "[0.477   0.458   5.00001]\n"
     ]
    }
   ],
   "source": [
    "y_pred = model.predict(X_new)\n",
    "print(y_pred)\n",
    "print(y_test[:3])"
   ]
  },
  {
   "cell_type": "code",
   "execution_count": null,
   "metadata": {},
   "outputs": [],
   "source": []
  }
 ],
 "metadata": {
  "kernelspec": {
   "display_name": "Python 3",
   "language": "python",
   "name": "python3"
  },
  "language_info": {
   "codemirror_mode": {
    "name": "ipython",
    "version": 3
   },
   "file_extension": ".py",
   "mimetype": "text/x-python",
   "name": "python",
   "nbconvert_exporter": "python",
   "pygments_lexer": "ipython3",
   "version": "3.8.3"
  }
 },
 "nbformat": 4,
 "nbformat_minor": 4
}
