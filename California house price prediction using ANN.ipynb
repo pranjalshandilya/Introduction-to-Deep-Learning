{
 "cells": [
  {
   "cell_type": "markdown",
   "metadata": {},
   "source": [
    "## Importing libraries"
   ]
  },
  {
   "cell_type": "code",
   "execution_count": 1,
   "metadata": {},
   "outputs": [],
   "source": [
    "import numpy as np\n",
    "import pandas as pd\n",
    "%matplotlib inline\n",
    "import matplotlib as mpl\n",
    "import matplotlib.pyplot as plt"
   ]
  },
  {
   "cell_type": "code",
   "execution_count": 2,
   "metadata": {},
   "outputs": [],
   "source": [
    "import tensorflow as tf\n",
    "from tensorflow import keras"
   ]
  },
  {
   "cell_type": "code",
   "execution_count": 3,
   "metadata": {},
   "outputs": [],
   "source": [
    "from sklearn.datasets import fetch_california_housing\n",
    "housing = fetch_california_housing()"
   ]
  },
  {
   "cell_type": "markdown",
   "metadata": {},
   "source": [
    "### Dataset characteristics"
   ]
  },
  {
   "cell_type": "markdown",
   "metadata": {},
   "source": [
    "* Number of instances\n",
    "    - 20640"
   ]
  },
  {
   "cell_type": "markdown",
   "metadata": {},
   "source": [
    "* Number of attributes\n",
    "    - 8 numeric, predictive attritbutes and the target"
   ]
  },
  {
   "cell_type": "markdown",
   "metadata": {},
   "source": [
    "* Attribute information\n",
    "    - MedInc median income in block\n",
    "    - HouseAge median house age in block\n",
    "    - AveRooms average number of rooms\n",
    "    - AveBedrms average number of bedrooms\n",
    "    - Population block population\n",
    "    - AveOccup average house occupancy\n",
    "    - Latitude house block latitude\n",
    "    - Longitude house block longitutde"
   ]
  },
  {
   "cell_type": "markdown",
   "metadata": {},
   "source": [
    "* Target\n",
    "    - The target variable is the median house value in units of 1000,000 for california districts"
   ]
  },
  {
   "cell_type": "code",
   "execution_count": 4,
   "metadata": {},
   "outputs": [
    {
     "name": "stdout",
     "output_type": "stream",
     "text": [
      "['MedInc', 'HouseAge', 'AveRooms', 'AveBedrms', 'Population', 'AveOccup', 'Latitude', 'Longitude']\n"
     ]
    }
   ],
   "source": [
    "print(housing.feature_names)"
   ]
  },
  {
   "cell_type": "code",
   "execution_count": 5,
   "metadata": {},
   "outputs": [],
   "source": [
    "from sklearn.model_selection import train_test_split\n",
    "X_train_full, X_test, y_train_full, y_test = train_test_split(housing.data, housing.target, random_state=42)\n",
    "X_train, X_valid, y_train, y_valid = train_test_split(X_train_full, y_train_full, random_state=42)"
   ]
  },
  {
   "cell_type": "code",
   "execution_count": 6,
   "metadata": {},
   "outputs": [],
   "source": [
    "from sklearn.preprocessing import StandardScaler\n",
    "scaler = StandardScaler()\n",
    "X_train = scaler.fit_transform(X_train)\n",
    "X_valid = scaler.transform(X_valid)\n",
    "X_test = scaler.transform(X_test)"
   ]
  },
  {
   "cell_type": "code",
   "execution_count": 7,
   "metadata": {},
   "outputs": [],
   "source": [
    "np.random.seed(42)\n",
    "tf.random.set_seed(42)"
   ]
  },
  {
   "cell_type": "code",
   "execution_count": 8,
   "metadata": {},
   "outputs": [
    {
     "data": {
      "text/plain": [
       "(11610, 8)"
      ]
     },
     "execution_count": 8,
     "metadata": {},
     "output_type": "execute_result"
    }
   ],
   "source": [
    "X_train.shape"
   ]
  },
  {
   "cell_type": "markdown",
   "metadata": {},
   "source": [
    "## Creating model"
   ]
  },
  {
   "cell_type": "code",
   "execution_count": 9,
   "metadata": {},
   "outputs": [],
   "source": [
    "model = keras.models.Sequential([\n",
    "    keras.layers.Dense(30, activation = \"relu\", input_shape=[8]),\n",
    "    keras.layers.Dense(30, activation = \"relu\"),\n",
    "    keras.layers.Dense(1)                                                 \n",
    "])"
   ]
  },
  {
   "cell_type": "code",
   "execution_count": 10,
   "metadata": {},
   "outputs": [
    {
     "name": "stdout",
     "output_type": "stream",
     "text": [
      "Model: \"sequential\"\n",
      "_________________________________________________________________\n",
      "Layer (type)                 Output Shape              Param #   \n",
      "=================================================================\n",
      "dense (Dense)                (None, 30)                270       \n",
      "_________________________________________________________________\n",
      "dense_1 (Dense)              (None, 30)                930       \n",
      "_________________________________________________________________\n",
      "dense_2 (Dense)              (None, 1)                 31        \n",
      "=================================================================\n",
      "Total params: 1,231\n",
      "Trainable params: 1,231\n",
      "Non-trainable params: 0\n",
      "_________________________________________________________________\n"
     ]
    }
   ],
   "source": [
    "model.summary()"
   ]
  },
  {
   "cell_type": "code",
   "execution_count": 11,
   "metadata": {},
   "outputs": [],
   "source": [
    "model.compile(loss=\"mean_squared_error\",\n",
    "             optimizer=keras.optimizers.SGD(lr=1e-3),\n",
    "             metrics = ['mae'])\n",
    "\n",
    "#lr = learning rate"
   ]
  },
  {
   "cell_type": "code",
   "execution_count": 12,
   "metadata": {},
   "outputs": [
    {
     "data": {
      "image/png": "[encoded data removed]",
      "text/plain": [
       "<IPython.core.display.Image object>"
      ]
     },
     "execution_count": 12,
     "metadata": {},
     "output_type": "execute_result"
    }
   ],
   "source": [
    "import pydot\n",
    "keras.utils.plot_model(model)"
   ]
  },
  {
   "cell_type": "code",
   "execution_count": 13,
   "metadata": {},
   "outputs": [
    {
     "name": "stdout",
     "output_type": "stream",
     "text": [
      "Epoch 1/30\n",
      "363/363 [==============================] - 3s 7ms/step - loss: 3.3697 - mae: 1.4280 - val_loss: 0.7126 - val_mae: 0.6368\n",
      "Epoch 2/30\n",
      "363/363 [==============================] - 1s 2ms/step - loss: 0.6964 - mae: 0.6267 - val_loss: 0.6880 - val_mae: 0.5704\n",
      "Epoch 3/30\n",
      "363/363 [==============================] - 1s 3ms/step - loss: 0.6167 - mae: 0.5701 - val_loss: 0.5803 - val_mae: 0.5352\n",
      "Epoch 4/30\n",
      "363/363 [==============================] - 1s 3ms/step - loss: 0.5846 - mae: 0.5491 - val_loss: 0.5166 - val_mae: 0.5207\n",
      "Epoch 5/30\n",
      "363/363 [==============================] - 1s 4ms/step - loss: 0.5321 - mae: 0.5292 - val_loss: 0.4895 - val_mae: 0.5022\n",
      "Epoch 6/30\n",
      "363/363 [==============================] - 1s 4ms/step - loss: 0.5083 - mae: 0.5146 - val_loss: 0.4951 - val_mae: 0.4934\n",
      "Epoch 7/30\n",
      "363/363 [==============================] - 1s 4ms/step - loss: 0.5044 - mae: 0.5060 - val_loss: 0.4861 - val_mae: 0.4838\n",
      "Epoch 8/30\n",
      "363/363 [==============================] - 1s 3ms/step - loss: 0.4813 - mae: 0.4968 - val_loss: 0.4554 - val_mae: 0.4753\n",
      "Epoch 9/30\n",
      "363/363 [==============================] - 1s 3ms/step - loss: 0.4627 - mae: 0.4882 - val_loss: 0.4413 - val_mae: 0.4671\n",
      "Epoch 10/30\n",
      "363/363 [==============================] - 1s 2ms/step - loss: 0.4549 - mae: 0.4846 - val_loss: 0.4379 - val_mae: 0.4623\n",
      "Epoch 11/30\n",
      "363/363 [==============================] - 1s 2ms/step - loss: 0.4416 - mae: 0.4758 - val_loss: 0.4396 - val_mae: 0.4638\n",
      "Epoch 12/30\n",
      "363/363 [==============================] - 1s 4ms/step - loss: 0.4295 - mae: 0.4715 - val_loss: 0.4507 - val_mae: 0.4573\n",
      "Epoch 13/30\n",
      "363/363 [==============================] - 1s 3ms/step - loss: 0.4326 - mae: 0.4702 - val_loss: 0.3997 - val_mae: 0.4517\n",
      "Epoch 14/30\n",
      "363/363 [==============================] - 1s 3ms/step - loss: 0.4207 - mae: 0.4651 - val_loss: 0.3956 - val_mae: 0.4497\n",
      "Epoch 15/30\n",
      "363/363 [==============================] - 1s 3ms/step - loss: 0.4198 - mae: 0.4582 - val_loss: 0.3916 - val_mae: 0.4464\n",
      "Epoch 16/30\n",
      "363/363 [==============================] - 1s 3ms/step - loss: 0.4248 - mae: 0.4652 - val_loss: 0.3937 - val_mae: 0.4445\n",
      "Epoch 17/30\n",
      "363/363 [==============================] - 1s 4ms/step - loss: 0.4105 - mae: 0.4598 - val_loss: 0.3809 - val_mae: 0.4390\n",
      "Epoch 18/30\n",
      "363/363 [==============================] - 1s 3ms/step - loss: 0.4070 - mae: 0.4585 - val_loss: 0.3793 - val_mae: 0.4368\n",
      "Epoch 19/30\n",
      "363/363 [==============================] - 1s 4ms/step - loss: 0.3902 - mae: 0.4500 - val_loss: 0.3850 - val_mae: 0.4369\n",
      "Epoch 20/30\n",
      "363/363 [==============================] - 1s 4ms/step - loss: 0.3864 - mae: 0.4441 - val_loss: 0.3809 - val_mae: 0.4368\n",
      "Epoch 21/30\n",
      "363/363 [==============================] - 2s 5ms/step - loss: 0.3978 - mae: 0.4504 - val_loss: 0.3701 - val_mae: 0.4350\n",
      "Epoch 22/30\n",
      "363/363 [==============================] - 1s 3ms/step - loss: 0.3816 - mae: 0.4437 - val_loss: 0.3781 - val_mae: 0.4358\n",
      "Epoch 23/30\n",
      "363/363 [==============================] - 1s 2ms/step - loss: 0.4042 - mae: 0.4556 - val_loss: 0.3650 - val_mae: 0.4267\n",
      "Epoch 24/30\n",
      "363/363 [==============================] - 1s 2ms/step - loss: 0.3823 - mae: 0.4427 - val_loss: 0.3655 - val_mae: 0.4271\n",
      "Epoch 25/30\n",
      "363/363 [==============================] - 1s 2ms/step - loss: 0.3792 - mae: 0.4412 - val_loss: 0.3611 - val_mae: 0.4257\n",
      "Epoch 26/30\n",
      "363/363 [==============================] - 1s 2ms/step - loss: 0.3800 - mae: 0.4388 - val_loss: 0.3626 - val_mae: 0.4256\n",
      "Epoch 27/30\n",
      "363/363 [==============================] - 1s 2ms/step - loss: 0.3858 - mae: 0.4426 - val_loss: 0.3564 - val_mae: 0.4242\n",
      "Epoch 28/30\n",
      "363/363 [==============================] - 1s 3ms/step - loss: 0.3839 - mae: 0.4427 - val_loss: 0.3579 - val_mae: 0.4259\n",
      "Epoch 29/30\n",
      "363/363 [==============================] - 1s 2ms/step - loss: 0.3736 - mae: 0.4377 - val_loss: 0.3561 - val_mae: 0.4244\n",
      "Epoch 30/30\n",
      "363/363 [==============================] - 1s 2ms/step - loss: 0.3843 - mae: 0.4409 - val_loss: 0.3548 - val_mae: 0.4214\n"
     ]
    }
   ],
   "source": [
    "model_history = model.fit(X_train, y_train, epochs=30, validation_data=(X_valid,y_valid))"
   ]
  },
  {
   "cell_type": "code",
   "execution_count": 14,
   "metadata": {},
   "outputs": [
    {
     "name": "stdout",
     "output_type": "stream",
     "text": [
      "162/162 [==============================] - 0s 1ms/step - loss: 0.3727 - mae: 0.4346\n"
     ]
    }
   ],
   "source": [
    "mae_test = model.evaluate(X_test,y_test)"
   ]
  },
  {
   "cell_type": "code",
   "execution_count": 15,
   "metadata": {},
   "outputs": [
    {
     "data": {
      "text/plain": [
       "{'loss': [1.8866397142410278,\n",
       "  0.6577127575874329,\n",
       "  0.5934185981750488,\n",
       "  0.5557191967964172,\n",
       "  0.5271904468536377,\n",
       "  0.5032975673675537,\n",
       "  0.48535558581352234,\n",
       "  0.47091811895370483,\n",
       "  0.45779934525489807,\n",
       "  0.4474469721317291,\n",
       "  0.4393136501312256,\n",
       "  0.43176087737083435,\n",
       "  0.4260515868663788,\n",
       "  0.42017653584480286,\n",
       "  0.41549986600875854,\n",
       "  0.4111650586128235,\n",
       "  0.4077068865299225,\n",
       "  0.4039528965950012,\n",
       "  0.4004494547843933,\n",
       "  0.3979603350162506,\n",
       "  0.39491623640060425,\n",
       "  0.392380952835083,\n",
       "  0.3898072838783264,\n",
       "  0.3874099850654602,\n",
       "  0.38507524132728577,\n",
       "  0.38291803002357483,\n",
       "  0.3808581829071045,\n",
       "  0.3787591755390167,\n",
       "  0.3769364356994629,\n",
       "  0.37497687339782715],\n",
       " 'mae': [0.9900257587432861,\n",
       "  0.6041510105133057,\n",
       "  0.5618006587028503,\n",
       "  0.5398454070091248,\n",
       "  0.5237293839454651,\n",
       "  0.5112562775611877,\n",
       "  0.5010154247283936,\n",
       "  0.492448091506958,\n",
       "  0.4857262969017029,\n",
       "  0.47973746061325073,\n",
       "  0.4744163453578949,\n",
       "  0.4703480303287506,\n",
       "  0.46740880608558655,\n",
       "  0.46360209584236145,\n",
       "  0.461266428232193,\n",
       "  0.4591343402862549,\n",
       "  0.4568699896335602,\n",
       "  0.45453646779060364,\n",
       "  0.4521065056324005,\n",
       "  0.45083147287368774,\n",
       "  0.4488178491592407,\n",
       "  0.4474424719810486,\n",
       "  0.44620010256767273,\n",
       "  0.4437682628631592,\n",
       "  0.4427269697189331,\n",
       "  0.4411567747592926,\n",
       "  0.43981388211250305,\n",
       "  0.4382499158382416,\n",
       "  0.4372561573982239,\n",
       "  0.4359183609485626],\n",
       " 'val_loss': [0.7126054167747498,\n",
       "  0.6880087852478027,\n",
       "  0.5803284645080566,\n",
       "  0.5166085362434387,\n",
       "  0.4895075559616089,\n",
       "  0.4950793385505676,\n",
       "  0.48612502217292786,\n",
       "  0.45538002252578735,\n",
       "  0.441336989402771,\n",
       "  0.43786394596099854,\n",
       "  0.4396442174911499,\n",
       "  0.4506688117980957,\n",
       "  0.3997235596179962,\n",
       "  0.39558932185173035,\n",
       "  0.3915724754333496,\n",
       "  0.3936830759048462,\n",
       "  0.38094857335090637,\n",
       "  0.3793475031852722,\n",
       "  0.3850175142288208,\n",
       "  0.38094648718833923,\n",
       "  0.37008610367774963,\n",
       "  0.3780854046344757,\n",
       "  0.3649766743183136,\n",
       "  0.3655155897140503,\n",
       "  0.36108672618865967,\n",
       "  0.36261090636253357,\n",
       "  0.35643547773361206,\n",
       "  0.3579290807247162,\n",
       "  0.35606300830841064,\n",
       "  0.35476282238960266],\n",
       " 'val_mae': [0.6368111968040466,\n",
       "  0.5703656077384949,\n",
       "  0.5351505279541016,\n",
       "  0.5206613540649414,\n",
       "  0.5022227168083191,\n",
       "  0.4933752119541168,\n",
       "  0.4838489592075348,\n",
       "  0.47527745366096497,\n",
       "  0.46705934405326843,\n",
       "  0.46234601736068726,\n",
       "  0.46377918124198914,\n",
       "  0.4572649896144867,\n",
       "  0.45166537165641785,\n",
       "  0.4496610760688782,\n",
       "  0.446370005607605,\n",
       "  0.4444963037967682,\n",
       "  0.43897414207458496,\n",
       "  0.43681108951568604,\n",
       "  0.4369050860404968,\n",
       "  0.4367615878582001,\n",
       "  0.43497899174690247,\n",
       "  0.43578681349754333,\n",
       "  0.42667096853256226,\n",
       "  0.42714089155197144,\n",
       "  0.4257424771785736,\n",
       "  0.42560702562332153,\n",
       "  0.4241633117198944,\n",
       "  0.4259428083896637,\n",
       "  0.42436832189559937,\n",
       "  0.4213896095752716]}"
      ]
     },
     "execution_count": 15,
     "metadata": {},
     "output_type": "execute_result"
    }
   ],
   "source": [
    "model_history.history"
   ]
  },
  {
   "cell_type": "code",
   "execution_count": 16,
   "metadata": {},
   "outputs": [
    {
     "data": {
      "image/png": "[encoded data removed]",
      "text/plain": [
       "<Figure size 576x360 with 1 Axes>"
      ]
     },
     "metadata": {
      "needs_background": "light"
     },
     "output_type": "display_data"
    }
   ],
   "source": [
    "pd.DataFrame(model_history.history).plot(figsize=(8,5))\n",
    "plt.grid(True)\n",
    "plt.gca().set_ylim(0,1)\n",
    "plt.show()"
   ]
  },
  {
   "cell_type": "code",
   "execution_count": 17,
   "metadata": {},
   "outputs": [],
   "source": [
    "X_new = X_test[:3]"
   ]
  },
  {
   "cell_type": "code",
   "execution_count": 18,
   "metadata": {},
   "outputs": [
    {
     "name": "stdout",
     "output_type": "stream",
     "text": [
      "[[0.5808525]\n",
      " [1.9019514]\n",
      " [3.6079109]]\n",
      "[0.477   0.458   5.00001]\n"
     ]
    }
   ],
   "source": [
    "y_pred = model.predict(X_new)\n",
    "print(y_pred)\n",
    "print(y_test[:3])"
   ]
  },
  {
   "cell_type": "markdown",
   "metadata": {},
   "source": [
    "## Functional API"
   ]
  },
  {
   "cell_type": "markdown",
   "metadata": {},
   "source": [
    "* Not all neural networks models are simply sequential, some may have complex topologies. Some may have multiple inputs and/or multiple outputs. For eaxample, a wide and deep neural network connects all or part of the inputs directly to the ouput layes"
   ]
  },
  {
   "cell_type": "code",
   "execution_count": 19,
   "metadata": {},
   "outputs": [],
   "source": [
    "input_ = keras.layers.Input(shape = X_train.shape[1:])\n",
    "hidden1 = keras.layers.Dense(30, activation='relu')(input_)\n",
    "hidden2 = keras.layers.Dense(30, activation='relu')(hidden1)\n",
    "concat = keras.layers.concatenate([input_,hidden2])\n",
    "output = keras.layers.Dense(1)(concat)\n",
    "model1 = keras.models.Model(inputs=[input_], outputs = [output])"
   ]
  },
  {
   "cell_type": "code",
   "execution_count": 21,
   "metadata": {},
   "outputs": [
    {
     "name": "stdout",
     "output_type": "stream",
     "text": [
      "Model: \"model\"\n",
      "__________________________________________________________________________________________________\n",
      "Layer (type)                    Output Shape         Param #     Connected to                     \n",
      "==================================================================================================\n",
      "input_1 (InputLayer)            [(None, 8)]          0                                            \n",
      "__________________________________________________________________________________________________\n",
      "dense_3 (Dense)                 (None, 30)           270         input_1[0][0]                    \n",
      "__________________________________________________________________________________________________\n",
      "dense_4 (Dense)                 (None, 30)           930         dense_3[0][0]                    \n",
      "__________________________________________________________________________________________________\n",
      "concatenate (Concatenate)       (None, 38)           0           input_1[0][0]                    \n",
      "                                                                 dense_4[0][0]                    \n",
      "__________________________________________________________________________________________________\n",
      "dense_5 (Dense)                 (None, 1)            39          concatenate[0][0]                \n",
      "==================================================================================================\n",
      "Total params: 1,239\n",
      "Trainable params: 1,239\n",
      "Non-trainable params: 0\n",
      "__________________________________________________________________________________________________\n"
     ]
    }
   ],
   "source": [
    "model1.summary()"
   ]
  },
  {
   "cell_type": "code",
   "execution_count": 27,
   "metadata": {},
   "outputs": [],
   "source": [
    "model1.compile(loss='mean_squared_error',\n",
    "              optimizer = keras.optimizers.SGD(lr=1e-3),\n",
    "              metrics = ['mae'])"
   ]
  },
  {
   "cell_type": "code",
   "execution_count": 28,
   "metadata": {},
   "outputs": [
    {
     "name": "stdout",
     "output_type": "stream",
     "text": [
      "Epoch 1/20\n",
      "363/363 [==============================] - 2s 3ms/step - loss: 0.3114 - mae: 0.3862 - val_loss: 0.3083 - val_mae: 0.3756\n",
      "Epoch 2/20\n",
      "363/363 [==============================] - 1s 3ms/step - loss: 0.3068 - mae: 0.3838 - val_loss: 0.3199 - val_mae: 0.3794\n",
      "Epoch 3/20\n",
      "363/363 [==============================] - 1s 3ms/step - loss: 0.3041 - mae: 0.3804 - val_loss: 0.3098 - val_mae: 0.3763\n",
      "Epoch 4/20\n",
      "363/363 [==============================] - 1s 4ms/step - loss: 0.2982 - mae: 0.3798 - val_loss: 0.2986 - val_mae: 0.3757\n",
      "Epoch 5/20\n",
      "363/363 [==============================] - 1s 3ms/step - loss: 0.3024 - mae: 0.3839 - val_loss: 0.2974 - val_mae: 0.3759\n",
      "Epoch 6/20\n",
      "363/363 [==============================] - 1s 2ms/step - loss: 0.2977 - mae: 0.3783 - val_loss: 0.2960 - val_mae: 0.3736\n",
      "Epoch 7/20\n",
      "363/363 [==============================] - 1s 2ms/step - loss: 0.3032 - mae: 0.3771 - val_loss: 0.2964 - val_mae: 0.3749\n",
      "Epoch 8/20\n",
      "363/363 [==============================] - 1s 2ms/step - loss: 0.3030 - mae: 0.3792 - val_loss: 0.2950 - val_mae: 0.3733\n",
      "Epoch 9/20\n",
      "363/363 [==============================] - 1s 2ms/step - loss: 0.2927 - mae: 0.3741 - val_loss: 0.3017 - val_mae: 0.3721\n",
      "Epoch 10/20\n",
      "363/363 [==============================] - 1s 2ms/step - loss: 0.2983 - mae: 0.3802 - val_loss: 0.3056 - val_mae: 0.3729\n",
      "Epoch 11/20\n",
      "363/363 [==============================] - 1s 2ms/step - loss: 0.2873 - mae: 0.3733 - val_loss: 0.2942 - val_mae: 0.3744\n",
      "Epoch 12/20\n",
      "363/363 [==============================] - 1s 2ms/step - loss: 0.2959 - mae: 0.3783 - val_loss: 0.3092 - val_mae: 0.3747\n",
      "Epoch 13/20\n",
      "363/363 [==============================] - 1s 2ms/step - loss: 0.2936 - mae: 0.3762 - val_loss: 0.3019 - val_mae: 0.3753\n",
      "Epoch 14/20\n",
      "363/363 [==============================] - 1s 2ms/step - loss: 0.2914 - mae: 0.3751 - val_loss: 0.2948 - val_mae: 0.3734\n",
      "Epoch 15/20\n",
      "363/363 [==============================] - 1s 2ms/step - loss: 0.2850 - mae: 0.3715 - val_loss: 0.3047 - val_mae: 0.3748\n",
      "Epoch 16/20\n",
      "363/363 [==============================] - 1s 2ms/step - loss: 0.2960 - mae: 0.3778 - val_loss: 0.2943 - val_mae: 0.3726\n",
      "Epoch 17/20\n",
      "363/363 [==============================] - 1s 3ms/step - loss: 0.2830 - mae: 0.3686 - val_loss: 0.3081 - val_mae: 0.3741\n",
      "Epoch 18/20\n",
      "363/363 [==============================] - 1s 2ms/step - loss: 0.2900 - mae: 0.3769 - val_loss: 0.3057 - val_mae: 0.3724\n",
      "Epoch 19/20\n",
      "363/363 [==============================] - 1s 2ms/step - loss: 0.2851 - mae: 0.3731 - val_loss: 0.3000 - val_mae: 0.3728\n",
      "Epoch 20/20\n",
      "363/363 [==============================] - 1s 2ms/step - loss: 0.2816 - mae: 0.3675 - val_loss: 0.3164 - val_mae: 0.3760\n"
     ]
    }
   ],
   "source": [
    "model_history = model1.fit(X_train, y_train, epochs=20, validation_data=(X_valid, y_valid))"
   ]
  },
  {
   "cell_type": "code",
   "execution_count": 29,
   "metadata": {},
   "outputs": [
    {
     "name": "stdout",
     "output_type": "stream",
     "text": [
      "162/162 [==============================] - 0s 1ms/step - loss: 0.3001 - mae: 0.3795\n"
     ]
    }
   ],
   "source": [
    "mae_test = model1.evaluate(X_test, y_test)"
   ]
  },
  {
   "cell_type": "code",
   "execution_count": 30,
   "metadata": {},
   "outputs": [
    {
     "data": {
      "text/plain": [
       "{'loss': [0.3032994866371155,\n",
       "  0.29533854126930237,\n",
       "  0.2947326898574829,\n",
       "  0.29468855261802673,\n",
       "  0.29410308599472046,\n",
       "  0.2940187156200409,\n",
       "  0.2935331463813782,\n",
       "  0.29345235228538513,\n",
       "  0.293093740940094,\n",
       "  0.29293689131736755,\n",
       "  0.29290086030960083,\n",
       "  0.29268449544906616,\n",
       "  0.2924138605594635,\n",
       "  0.2923218607902527,\n",
       "  0.292089581489563,\n",
       "  0.29221805930137634,\n",
       "  0.2920016944408417,\n",
       "  0.291908860206604,\n",
       "  0.2916196882724762,\n",
       "  0.29160845279693604],\n",
       " 'mae': [0.3789478838443756,\n",
       "  0.37720200419425964,\n",
       "  0.3771839439868927,\n",
       "  0.3770509362220764,\n",
       "  0.3766150176525116,\n",
       "  0.376834899187088,\n",
       "  0.3760714828968048,\n",
       "  0.3765028119087219,\n",
       "  0.3759647011756897,\n",
       "  0.3757263123989105,\n",
       "  0.3753555417060852,\n",
       "  0.3757006824016571,\n",
       "  0.37548744678497314,\n",
       "  0.3752456605434418,\n",
       "  0.3752269446849823,\n",
       "  0.3754868507385254,\n",
       "  0.3749403953552246,\n",
       "  0.3750479519367218,\n",
       "  0.37473204731941223,\n",
       "  0.3744659721851349],\n",
       " 'val_loss': [0.3083304762840271,\n",
       "  0.3199301064014435,\n",
       "  0.30981963872909546,\n",
       "  0.29863888025283813,\n",
       "  0.2973855435848236,\n",
       "  0.2959599196910858,\n",
       "  0.2963503301143646,\n",
       "  0.29504501819610596,\n",
       "  0.3017014265060425,\n",
       "  0.30564162135124207,\n",
       "  0.2942356765270233,\n",
       "  0.30918553471565247,\n",
       "  0.30193236470222473,\n",
       "  0.29483532905578613,\n",
       "  0.3047376573085785,\n",
       "  0.2942596673965454,\n",
       "  0.3080865740776062,\n",
       "  0.30569571256637573,\n",
       "  0.2999992370605469,\n",
       "  0.31639403104782104],\n",
       " 'val_mae': [0.37561851739883423,\n",
       "  0.3793794512748718,\n",
       "  0.3763115406036377,\n",
       "  0.37569254636764526,\n",
       "  0.37593573331832886,\n",
       "  0.3736443519592285,\n",
       "  0.3749244809150696,\n",
       "  0.3733100891113281,\n",
       "  0.37210044264793396,\n",
       "  0.3729178309440613,\n",
       "  0.3744202256202698,\n",
       "  0.374740332365036,\n",
       "  0.37526777386665344,\n",
       "  0.3733873665332794,\n",
       "  0.3747595250606537,\n",
       "  0.3726392686367035,\n",
       "  0.3741043508052826,\n",
       "  0.37237298488616943,\n",
       "  0.37277206778526306,\n",
       "  0.37600165605545044]}"
      ]
     },
     "execution_count": 30,
     "metadata": {},
     "output_type": "execute_result"
    }
   ],
   "source": [
    "model_history.history"
   ]
  },
  {
   "cell_type": "code",
   "execution_count": 31,
   "metadata": {},
   "outputs": [
    {
     "data": {
      "image/png": "[encoded data removed]",
      "text/plain": [
       "<Figure size 576x360 with 1 Axes>"
      ]
     },
     "metadata": {
      "needs_background": "light"
     },
     "output_type": "display_data"
    }
   ],
   "source": [
    "pd.DataFrame(model_history.history).plot(figsize=(8,5))\n",
    "plt.grid(True)\n",
    "plt.gca().set_ylim(0,1)\n",
    "plt.show()"
   ]
  },
  {
   "cell_type": "code",
   "execution_count": 32,
   "metadata": {},
   "outputs": [
    {
     "data": {
      "image/png": "[encoded data removed]",
      "text/plain": [
       "<IPython.core.display.Image object>"
      ]
     },
     "execution_count": 32,
     "metadata": {},
     "output_type": "execute_result"
    }
   ],
   "source": [
    "import pydot\n",
    "keras.utils.plot_model(model1)"
   ]
  },
  {
   "cell_type": "markdown",
   "metadata": {},
   "source": [
    "## Saving and Restoring"
   ]
  },
  {
   "cell_type": "code",
   "execution_count": 33,
   "metadata": {},
   "outputs": [],
   "source": [
    "model1.save(\"Functional_api.h5\")"
   ]
  },
  {
   "cell_type": "code",
   "execution_count": 34,
   "metadata": {},
   "outputs": [
    {
     "data": {
      "text/plain": [
       "'C:\\\\Users\\\\pranj\\\\Desktop\\\\Udemy\\\\Deep learning'"
      ]
     },
     "execution_count": 34,
     "metadata": {},
     "output_type": "execute_result"
    }
   ],
   "source": [
    "%pwd"
   ]
  },
  {
   "cell_type": "code",
   "execution_count": 35,
   "metadata": {},
   "outputs": [],
   "source": [
    "#%cd C:\\\\users"
   ]
  },
  {
   "cell_type": "code",
   "execution_count": 36,
   "metadata": {},
   "outputs": [],
   "source": [
    "del model1"
   ]
  },
  {
   "cell_type": "code",
   "execution_count": 37,
   "metadata": {},
   "outputs": [],
   "source": [
    "keras.backend.clear_session()"
   ]
  },
  {
   "cell_type": "code",
   "execution_count": 38,
   "metadata": {},
   "outputs": [],
   "source": [
    "model = keras.models.load_model(\"Functional_api.h5\")"
   ]
  },
  {
   "cell_type": "code",
   "execution_count": 39,
   "metadata": {},
   "outputs": [
    {
     "name": "stdout",
     "output_type": "stream",
     "text": [
      "Model: \"model\"\n",
      "__________________________________________________________________________________________________\n",
      "Layer (type)                    Output Shape         Param #     Connected to                     \n",
      "==================================================================================================\n",
      "input_1 (InputLayer)            [(None, 8)]          0                                            \n",
      "__________________________________________________________________________________________________\n",
      "dense_3 (Dense)                 (None, 30)           270         input_1[0][0]                    \n",
      "__________________________________________________________________________________________________\n",
      "dense_4 (Dense)                 (None, 30)           930         dense_3[0][0]                    \n",
      "__________________________________________________________________________________________________\n",
      "concatenate (Concatenate)       (None, 38)           0           input_1[0][0]                    \n",
      "                                                                 dense_4[0][0]                    \n",
      "__________________________________________________________________________________________________\n",
      "dense_5 (Dense)                 (None, 1)            39          concatenate[0][0]                \n",
      "==================================================================================================\n",
      "Total params: 1,239\n",
      "Trainable params: 1,239\n",
      "Non-trainable params: 0\n",
      "__________________________________________________________________________________________________\n"
     ]
    }
   ],
   "source": [
    "model.summary()"
   ]
  },
  {
   "cell_type": "code",
   "execution_count": 40,
   "metadata": {},
   "outputs": [
    {
     "name": "stdout",
     "output_type": "stream",
     "text": [
      "[[0.493888 ]\n",
      " [1.3456262]\n",
      " [4.559773 ]]\n"
     ]
    }
   ],
   "source": [
    "y_pred = model.predict(X_new)\n",
    "print(y_pred)"
   ]
  },
  {
   "cell_type": "markdown",
   "metadata": {},
   "source": [
    "## Using Callbacks during training"
   ]
  },
  {
   "cell_type": "code",
   "execution_count": 41,
   "metadata": {},
   "outputs": [],
   "source": [
    "keras.backend.clear_session()"
   ]
  },
  {
   "cell_type": "code",
   "execution_count": 43,
   "metadata": {},
   "outputs": [],
   "source": [
    "np.random.seed(44)\n",
    "tf.random.set_seed(44)"
   ]
  },
  {
   "cell_type": "code",
   "execution_count": 44,
   "metadata": {},
   "outputs": [],
   "source": [
    "model = keras.models.Sequential([\n",
    "    keras.layers.Dense(30, activation='relu', input_shape = [8]),\n",
    "    keras.layers.Dense(30, activation='relu'),\n",
    "    keras.layers.Dense(1)\n",
    "])"
   ]
  },
  {
   "cell_type": "code",
   "execution_count": 45,
   "metadata": {},
   "outputs": [],
   "source": [
    "model.compile(loss='mse', optimizer = keras.optimizers.SGD(lr=1e-3))"
   ]
  },
  {
   "cell_type": "code",
   "execution_count": 47,
   "metadata": {},
   "outputs": [],
   "source": [
    "checkpoint_cb = keras.callbacks.ModelCheckpoint(\"Model-{epoch:02d}.h5\")"
   ]
  },
  {
   "cell_type": "code",
   "execution_count": 48,
   "metadata": {},
   "outputs": [
    {
     "name": "stdout",
     "output_type": "stream",
     "text": [
      "Epoch 1/10\n",
      "363/363 [==============================] - 1s 2ms/step - loss: 2.6466 - val_loss: 0.8652\n",
      "Epoch 2/10\n",
      "363/363 [==============================] - 1s 2ms/step - loss: 0.7877 - val_loss: 0.6683\n",
      "Epoch 3/10\n",
      "363/363 [==============================] - 1s 3ms/step - loss: 0.6168 - val_loss: 0.5882\n",
      "Epoch 4/10\n",
      "363/363 [==============================] - 1s 2ms/step - loss: 0.5774 - val_loss: 0.6175\n",
      "Epoch 5/10\n",
      "363/363 [==============================] - 1s 2ms/step - loss: 0.5433 - val_loss: 0.5178\n",
      "Epoch 6/10\n",
      "363/363 [==============================] - 1s 2ms/step - loss: 0.5157 - val_loss: 0.5627\n",
      "Epoch 7/10\n",
      "363/363 [==============================] - 1s 2ms/step - loss: 0.5055 - val_loss: 0.5136\n",
      "Epoch 8/10\n",
      "363/363 [==============================] - 1s 2ms/step - loss: 0.4712 - val_loss: 0.4433\n",
      "Epoch 9/10\n",
      "363/363 [==============================] - 1s 2ms/step - loss: 0.4622 - val_loss: 0.4695\n",
      "Epoch 10/10\n",
      "363/363 [==============================] - 1s 4ms/step - loss: 0.4417 - val_loss: 0.4435\n"
     ]
    }
   ],
   "source": [
    "history = model.fit(X_train, y_train, epochs=10, validation_data=(X_valid, y_valid), callbacks=[checkpoint_cb])"
   ]
  },
  {
   "cell_type": "code",
   "execution_count": 49,
   "metadata": {},
   "outputs": [],
   "source": [
    "del model\n",
    "keras.backend.clear_session()"
   ]
  },
  {
   "cell_type": "code",
   "execution_count": 50,
   "metadata": {},
   "outputs": [],
   "source": [
    "model = keras.models.load_model(\"Model-10.h5\")"
   ]
  },
  {
   "cell_type": "code",
   "execution_count": 51,
   "metadata": {},
   "outputs": [
    {
     "name": "stdout",
     "output_type": "stream",
     "text": [
      "162/162 [==============================] - 0s 520us/step - loss: 0.4340\n"
     ]
    }
   ],
   "source": [
    "mse_test = model.evaluate(X_test,y_test)"
   ]
  },
  {
   "cell_type": "code",
   "execution_count": 52,
   "metadata": {},
   "outputs": [],
   "source": [
    "del model\n",
    "keras.backend.clear_session()"
   ]
  },
  {
   "cell_type": "markdown",
   "metadata": {},
   "source": [
    "## Best Model only"
   ]
  },
  {
   "cell_type": "code",
   "execution_count": 53,
   "metadata": {},
   "outputs": [],
   "source": [
    "np.random.seed(44)\n",
    "tf.random.set_seed(44)"
   ]
  },
  {
   "cell_type": "code",
   "execution_count": 54,
   "metadata": {},
   "outputs": [],
   "source": [
    "model = keras.models.Sequential([\n",
    "    keras.layers.Dense(30, activation='relu', input_shape = [8]),\n",
    "    keras.layers.Dense(30, activation='relu'),\n",
    "    keras.layers.Dense(1)\n",
    "])"
   ]
  },
  {
   "cell_type": "code",
   "execution_count": 55,
   "metadata": {},
   "outputs": [],
   "source": [
    "model.compile(loss='mse', optimizer = keras.optimizers.SGD(lr=1e-3))"
   ]
  },
  {
   "cell_type": "code",
   "execution_count": 56,
   "metadata": {},
   "outputs": [],
   "source": [
    "checkpoint_cb = keras.callbacks.ModelCheckpoint(\"Best_model.h5\", save_best_only=True)"
   ]
  },
  {
   "cell_type": "code",
   "execution_count": 57,
   "metadata": {},
   "outputs": [
    {
     "name": "stdout",
     "output_type": "stream",
     "text": [
      "Epoch 1/10\n",
      "363/363 [==============================] - 1s 1ms/step - loss: 2.6466 - val_loss: 0.8652\n",
      "Epoch 2/10\n",
      "363/363 [==============================] - 0s 773us/step - loss: 0.7877 - val_loss: 0.6683\n",
      "Epoch 3/10\n",
      "363/363 [==============================] - 0s 835us/step - loss: 0.6168 - val_loss: 0.5882\n",
      "Epoch 4/10\n",
      "363/363 [==============================] - 0s 816us/step - loss: 0.5774 - val_loss: 0.6175\n",
      "Epoch 5/10\n",
      "363/363 [==============================] - 0s 810us/step - loss: 0.5433 - val_loss: 0.5178\n",
      "Epoch 6/10\n",
      "363/363 [==============================] - 0s 777us/step - loss: 0.5157 - val_loss: 0.5627\n",
      "Epoch 7/10\n",
      "363/363 [==============================] - 0s 815us/step - loss: 0.5055 - val_loss: 0.5136\n",
      "Epoch 8/10\n",
      "363/363 [==============================] - 0s 959us/step - loss: 0.4712 - val_loss: 0.4433\n",
      "Epoch 9/10\n",
      "363/363 [==============================] - 0s 884us/step - loss: 0.4622 - val_loss: 0.4695\n",
      "Epoch 10/10\n",
      "363/363 [==============================] - 0s 837us/step - loss: 0.4417 - val_loss: 0.4435\n"
     ]
    }
   ],
   "source": [
    "history = model.fit(X_train, y_train, epochs=10, validation_data=(X_valid, y_valid), callbacks=[checkpoint_cb])"
   ]
  },
  {
   "cell_type": "code",
   "execution_count": 58,
   "metadata": {},
   "outputs": [
    {
     "name": "stdout",
     "output_type": "stream",
     "text": [
      "162/162 [==============================] - 0s 1ms/step - loss: 0.4340\n"
     ]
    },
    {
     "data": {
      "text/plain": [
       "0.43397656083106995"
      ]
     },
     "execution_count": 58,
     "metadata": {},
     "output_type": "execute_result"
    }
   ],
   "source": [
    "model.evaluate(X_test, y_test)"
   ]
  },
  {
   "cell_type": "markdown",
   "metadata": {},
   "source": [
    "## Early stop model with large epoch value"
   ]
  },
  {
   "cell_type": "code",
   "execution_count": 59,
   "metadata": {},
   "outputs": [],
   "source": [
    "del model\n",
    "keras.backend.clear_session()"
   ]
  },
  {
   "cell_type": "code",
   "execution_count": 60,
   "metadata": {},
   "outputs": [],
   "source": [
    "np.random.seed(44)\n",
    "tf.random.set_seed(44)"
   ]
  },
  {
   "cell_type": "code",
   "execution_count": 61,
   "metadata": {},
   "outputs": [],
   "source": [
    "model = keras.models.Sequential([\n",
    "    keras.layers.Dense(30, activation='relu', input_shape = [8]),\n",
    "    keras.layers.Dense(30, activation='relu'),\n",
    "    keras.layers.Dense(1)\n",
    "])"
   ]
  },
  {
   "cell_type": "code",
   "execution_count": 62,
   "metadata": {},
   "outputs": [],
   "source": [
    "model.compile(loss='mse', optimizer = keras.optimizers.SGD(lr=1e-3))"
   ]
  },
  {
   "cell_type": "code",
   "execution_count": 63,
   "metadata": {},
   "outputs": [],
   "source": [
    "checkpoint_cb = keras.callbacks.ModelCheckpoint(\"early_stop_model.h5\", save_best_only=True)"
   ]
  },
  {
   "cell_type": "code",
   "execution_count": 64,
   "metadata": {},
   "outputs": [],
   "source": [
    "early_stopping_cb = keras.callbacks.EarlyStopping(patience=10, restore_best_weights=True)\n",
    "\n",
    "# patience: Number of epochs with no improvement after which training will be stopped."
   ]
  },
  {
   "cell_type": "code",
   "execution_count": 66,
   "metadata": {},
   "outputs": [
    {
     "name": "stdout",
     "output_type": "stream",
     "text": [
      "Epoch 1/200\n",
      "363/363 [==============================] - 1s 2ms/step - loss: 0.4305 - val_loss: 0.4554\n",
      "Epoch 2/200\n",
      "363/363 [==============================] - 1s 2ms/step - loss: 0.4224 - val_loss: 0.4139\n",
      "Epoch 3/200\n",
      "363/363 [==============================] - 1s 1ms/step - loss: 0.4154 - val_loss: 0.5321\n",
      "Epoch 4/200\n",
      "363/363 [==============================] - 1s 1ms/step - loss: 0.4098 - val_loss: 0.4499\n",
      "Epoch 5/200\n",
      "363/363 [==============================] - 0s 1ms/step - loss: 0.4047 - val_loss: 0.3821\n",
      "Epoch 6/200\n",
      "363/363 [==============================] - 0s 829us/step - loss: 0.4006 - val_loss: 0.5485\n",
      "Epoch 7/200\n",
      "363/363 [==============================] - 0s 843us/step - loss: 0.3975 - val_loss: 0.4423\n",
      "Epoch 8/200\n",
      "363/363 [==============================] - 0s 813us/step - loss: 0.3941 - val_loss: 0.3760\n",
      "Epoch 9/200\n",
      "363/363 [==============================] - 0s 895us/step - loss: 0.3915 - val_loss: 0.4813\n",
      "Epoch 10/200\n",
      "363/363 [==============================] - 0s 810us/step - loss: 0.3894 - val_loss: 0.3820\n",
      "Epoch 11/200\n",
      "363/363 [==============================] - 0s 826us/step - loss: 0.3868 - val_loss: 0.4003\n",
      "Epoch 12/200\n",
      "363/363 [==============================] - 0s 1ms/step - loss: 0.3851 - val_loss: 0.4297\n",
      "Epoch 13/200\n",
      "363/363 [==============================] - 1s 2ms/step - loss: 0.3831 - val_loss: 0.4998\n",
      "Epoch 14/200\n",
      "363/363 [==============================] - 1s 2ms/step - loss: 0.3820 - val_loss: 0.4486\n",
      "Epoch 15/200\n",
      "363/363 [==============================] - 1s 2ms/step - loss: 0.3803 - val_loss: 0.3810\n",
      "Epoch 16/200\n",
      "363/363 [==============================] - 1s 2ms/step - loss: 0.3788 - val_loss: 0.4461\n",
      "Epoch 17/200\n",
      "363/363 [==============================] - 1s 2ms/step - loss: 0.3777 - val_loss: 0.3614\n",
      "Epoch 18/200\n",
      "363/363 [==============================] - 1s 2ms/step - loss: 0.3763 - val_loss: 0.4503\n",
      "Epoch 19/200\n",
      "363/363 [==============================] - 0s 811us/step - loss: 0.3752 - val_loss: 0.4517\n",
      "Epoch 20/200\n",
      "363/363 [==============================] - 1s 2ms/step - loss: 0.3741 - val_loss: 0.4346\n",
      "Epoch 21/200\n",
      "363/363 [==============================] - 1s 1ms/step - loss: 0.3731 - val_loss: 0.4161\n",
      "Epoch 22/200\n",
      "363/363 [==============================] - 0s 827us/step - loss: 0.3716 - val_loss: 0.4731\n",
      "Epoch 23/200\n",
      "363/363 [==============================] - 0s 827us/step - loss: 0.3710 - val_loss: 0.3645\n",
      "Epoch 24/200\n",
      "363/363 [==============================] - 0s 827us/step - loss: 0.3694 - val_loss: 0.5561\n",
      "Epoch 25/200\n",
      "363/363 [==============================] - 0s 841us/step - loss: 0.3698 - val_loss: 0.3496\n",
      "Epoch 26/200\n",
      "363/363 [==============================] - 0s 864us/step - loss: 0.3679 - val_loss: 0.3942\n",
      "Epoch 27/200\n",
      "363/363 [==============================] - 1s 2ms/step - loss: 0.3670 - val_loss: 0.4206\n",
      "Epoch 28/200\n",
      "363/363 [==============================] - 1s 2ms/step - loss: 0.3661 - val_loss: 0.4062\n",
      "Epoch 29/200\n",
      "363/363 [==============================] - 1s 2ms/step - loss: 0.3651 - val_loss: 0.5407\n",
      "Epoch 30/200\n",
      "363/363 [==============================] - 0s 1ms/step - loss: 0.3649 - val_loss: 0.4447\n",
      "Epoch 31/200\n",
      "363/363 [==============================] - 1s 3ms/step - loss: 0.3638 - val_loss: 0.4141\n",
      "Epoch 32/200\n",
      "363/363 [==============================] - 1s 3ms/step - loss: 0.3634 - val_loss: 0.3982\n",
      "Epoch 33/200\n",
      "363/363 [==============================] - 1s 3ms/step - loss: 0.3628 - val_loss: 0.3532\n",
      "Epoch 34/200\n",
      "363/363 [==============================] - 1s 4ms/step - loss: 0.3619 - val_loss: 0.3897\n",
      "Epoch 35/200\n",
      "363/363 [==============================] - 1s 3ms/step - loss: 0.3612 - val_loss: 0.4411\n"
     ]
    }
   ],
   "source": [
    "history = model.fit(X_train, y_train, epochs=200, validation_data=(X_valid, y_valid), callbacks=[checkpoint_cb, early_stopping_cb])"
   ]
  },
  {
   "cell_type": "code",
   "execution_count": 67,
   "metadata": {},
   "outputs": [
    {
     "name": "stdout",
     "output_type": "stream",
     "text": [
      "162/162 [==============================] - 0s 533us/step - loss: 0.3683\n"
     ]
    }
   ],
   "source": [
    "model = keras.models.load_model(\"early_stop_model.h5\")\n",
    "mse_test = model.evaluate(X_test, y_test)"
   ]
  },
  {
   "cell_type": "code",
   "execution_count": null,
   "metadata": {},
   "outputs": [],
   "source": []
  }
 ],
 "metadata": {
  "kernelspec": {
   "display_name": "Python 3",
   "language": "python",
   "name": "python3"
  },
  "language_info": {
   "codemirror_mode": {
    "name": "ipython",
    "version": 3
   },
   "file_extension": ".py",
   "mimetype": "text/x-python",
   "name": "python",
   "nbconvert_exporter": "python",
   "pygments_lexer": "ipython3",
   "version": "3.8.3"
  }
 },
 "nbformat": 4,
 "nbformat_minor": 4
}
